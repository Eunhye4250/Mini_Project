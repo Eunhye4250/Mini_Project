{
 "cells": [
  {
   "cell_type": "code",
   "execution_count": 1,
   "id": "73b9d618",
   "metadata": {},
   "outputs": [],
   "source": [
    "from selenium import webdriver\n",
    "from selenium.webdriver import ActionChains\n",
    "from selenium.webdriver.common.keys import Keys\n",
    "import pandas as pd\n",
    "import time"
   ]
  },
  {
   "cell_type": "markdown",
   "id": "2d78232e",
   "metadata": {},
   "source": [
    "-------------------------------------------\n",
    "# 호텔(구글맵)"
   ]
  },
  {
   "cell_type": "code",
   "execution_count": 13,
   "id": "535a460a",
   "metadata": {},
   "outputs": [],
   "source": [
    "# 결과 리스트 함수\n",
    "name=[]\n",
    "star= []\n",
    "cnt=[]\n",
    "price=[] \n",
    "\n",
    "def hotel_review():\n",
    "    hotels=driver.find_elements_by_class_name('qBF1Pd')\n",
    "    for hotel in hotels:\n",
    "        n=hotel.text\n",
    "        name.append(n)\n",
    "        #print(hotel)\n",
    "\n",
    "    stars=driver.find_elements_by_class_name('MW4etd')\n",
    "    for star1 in stars:\n",
    "        s=star1.text\n",
    "        star.append(s)       \n",
    "\n",
    "    reviews=driver.find_elements_by_class_name('UY7F9')\n",
    "    for review in reviews:\n",
    "        cnt1 = int(review.text.replace('(','').replace(')','').replace(',',''))\n",
    "        cnt.append(cnt1)\n",
    "        #print(cnt.text)\n",
    "        \n",
    "\n",
    "    containers = driver.find_elements_by_class_name('badge-container')\n",
    "    for i in containers:\n",
    "        price1 = i.find_element_by_class_name('wcldff')\n",
    "        p = str(price1.text.replace(\"만\",'')[1:])\n",
    "        price.append(p)\n",
    "        #print(p)\n",
    "\n",
    "\n",
    "# print(name)\n",
    "# print(star)\n",
    "# print(cnt)\n",
    "# print(price)\n",
    "    for i in range(0, 5):\n",
    "        print('호텔명:', name[i], '별점:', star[i], '리뷰수:', cnt[i], '가격:', price[i] )    "
   ]
  },
  {
   "cell_type": "code",
   "execution_count": 14,
   "id": "1344b244",
   "metadata": {},
   "outputs": [
    {
     "name": "stdout",
     "output_type": "stream",
     "text": [
      "지역 입력:제주도\n"
     ]
    },
    {
     "name": "stderr",
     "output_type": "stream",
     "text": [
      "C:\\Users\\q\\AppData\\Local\\Temp/ipykernel_5444/3326915221.py:9: DeprecationWarning: find_element_by_* commands are deprecated. Please use find_element() instead\n",
      "  searchbox = driver.find_element_by_css_selector(\"input#searchboxinput\")\n",
      "C:\\Users\\q\\AppData\\Local\\Temp/ipykernel_5444/3326915221.py:13: DeprecationWarning: find_element_by_* commands are deprecated. Please use find_element() instead\n",
      "  searchbutton = driver.find_element_by_css_selector(\"button#searchbox-searchbutton\")\n",
      "C:\\Users\\q\\AppData\\Local\\Temp/ipykernel_5444/3326915221.py:18: DeprecationWarning: find_element_by_* commands are deprecated. Please use find_element() instead\n",
      "  element = driver.find_element_by_css_selector(\"#pane > div > div.Yr7JMd-pane-content.cYB2Ge-oHo7ed > div > div > div.siAUzd-neVct.section-scrollbox.cYB2Ge-oHo7ed.cYB2Ge-ti6hGc.siAUzd-neVct-Q3DXx-BvBYQ > div.siAUzd-neVct.section-scrollbox.cYB2Ge-oHo7ed.cYB2Ge-ti6hGc.siAUzd-neVct-Q3DXx-BvBYQ > div.XS5mzc-on-hJDwNd-uMX1Ee.siAUzd-neVct > div > div.XwJl7b-map-XuHpsb-haAclf.xtu1r-K9a4Re-XuHpsb-haAclf > div.xtu1r-K9a4Re-ibnC6b-haAclf > div:nth-child(1) > div > button\")\n",
      "C:\\Users\\q\\AppData\\Local\\Temp/ipykernel_5444/3326915221.py:22: DeprecationWarning: find_element_by_* commands are deprecated. Please use find_element() instead\n",
      "  ratebutton = driver.find_element_by_css_selector(\"#hovercard > div:nth-child(1)\")\n",
      "C:\\Users\\q\\AppData\\Local\\Temp/ipykernel_5444/901917583.py:8: DeprecationWarning: find_elements_by_* commands are deprecated. Please use find_elements() instead\n",
      "  hotels=driver.find_elements_by_class_name('qBF1Pd')\n",
      "C:\\Users\\q\\AppData\\Local\\Temp/ipykernel_5444/901917583.py:14: DeprecationWarning: find_elements_by_* commands are deprecated. Please use find_elements() instead\n",
      "  stars=driver.find_elements_by_class_name('MW4etd')\n",
      "C:\\Users\\q\\AppData\\Local\\Temp/ipykernel_5444/901917583.py:19: DeprecationWarning: find_elements_by_* commands are deprecated. Please use find_elements() instead\n",
      "  reviews=driver.find_elements_by_class_name('UY7F9')\n"
     ]
    },
    {
     "name": "stdout",
     "output_type": "stream",
     "text": [
      "호텔명: 나인브릿지 별점: 4.7 리뷰수: 818 가격: \n",
      "호텔명: 신라호텔 제주 별점: 4.6 리뷰수: 4462 가격: 47.1\n",
      "호텔명: 그랜드 하얏트 제주 별점: 4.6 리뷰수: 1010 가격: 36.1\n",
      "호텔명: 롯데아트빌라스 별점: 4.6 리뷰수: 530 가격: 63.1\n",
      "호텔명: 롯데호텔 제주 별점: 4.5 리뷰수: 3807 가격: 32.6\n"
     ]
    },
    {
     "name": "stderr",
     "output_type": "stream",
     "text": [
      "C:\\Users\\q\\AppData\\Local\\Temp/ipykernel_5444/901917583.py:26: DeprecationWarning: find_elements_by_* commands are deprecated. Please use find_elements() instead\n",
      "  containers = driver.find_elements_by_class_name('badge-container')\n",
      "C:\\Users\\q\\anaconda3\\lib\\site-packages\\selenium\\webdriver\\remote\\webelement.py:446: UserWarning: find_element_by_* commands are deprecated. Please use find_element() instead\n",
      "  warnings.warn(\"find_element_by_* commands are deprecated. Please use find_element() instead\")\n"
     ]
    }
   ],
   "source": [
    "# 여행할 지역입력\n",
    "keyword=input(\"지역 입력:\")\n",
    "\n",
    "driver=webdriver.Chrome()\n",
    "driver.get(\"https://www.google.com/maps/\")\n",
    "time.sleep(2)\n",
    "\n",
    "#검색창에 입력값 입력\n",
    "searchbox = driver.find_element_by_css_selector(\"input#searchboxinput\")\n",
    "searchbox.send_keys(f\"{keyword} 호텔\")\n",
    "\n",
    "#검색버튼 누르기\n",
    "searchbutton = driver.find_element_by_css_selector(\"button#searchbox-searchbutton\")\n",
    "searchbutton.click()\n",
    "time.sleep(5)\n",
    "\n",
    "# 정렬기준 클릭\n",
    "element = driver.find_element_by_css_selector(\"#pane > div > div.Yr7JMd-pane-content.cYB2Ge-oHo7ed > div > div > div.siAUzd-neVct.section-scrollbox.cYB2Ge-oHo7ed.cYB2Ge-ti6hGc.siAUzd-neVct-Q3DXx-BvBYQ > div.siAUzd-neVct.section-scrollbox.cYB2Ge-oHo7ed.cYB2Ge-ti6hGc.siAUzd-neVct-Q3DXx-BvBYQ > div.XS5mzc-on-hJDwNd-uMX1Ee.siAUzd-neVct > div > div.XwJl7b-map-XuHpsb-haAclf.xtu1r-K9a4Re-XuHpsb-haAclf > div.xtu1r-K9a4Re-ibnC6b-haAclf > div:nth-child(1) > div > button\")\n",
    "driver.execute_script(\"arguments[0].click();\", element)\n",
    "\n",
    "#평점순 정렬 클릭\n",
    "ratebutton = driver.find_element_by_css_selector(\"#hovercard > div:nth-child(1)\")\n",
    "ratebutton.click()\n",
    "time.sleep(5)\n",
    "\n",
    "#관광지 평점별 상위 5개 호텔 추출\n",
    "hotel_review()"
   ]
  },
  {
   "cell_type": "markdown",
   "id": "f22cfbcd",
   "metadata": {},
   "source": [
    "----------------------------------------------------------------\n",
    "# 식당(구글맵)"
   ]
  },
  {
   "cell_type": "code",
   "execution_count": 2,
   "id": "2b2f6743",
   "metadata": {},
   "outputs": [],
   "source": [
    "# 결과 리스트 함수\n",
    "name=[]\n",
    "star=[]\n",
    "cnt=[]\n",
    "\n",
    "def restaurant(): \n",
    "    ress=driver.find_elements_by_class_name('qBF1Pd-haAclf')\n",
    "    for res in ress:\n",
    "        n=res.text\n",
    "        name.append(n)\n",
    "    \n",
    "    stars=driver.find_elements_by_class_name('MW4etd')\n",
    "    for st in stars:\n",
    "        s=st.text\n",
    "        star.append(s)\n",
    "    \n",
    "    reviews=driver.find_elements_by_class_name('UY7F9')\n",
    "    for review in reviews:\n",
    "        cnt1 = int(review.text.replace('(','').replace(')','').replace(',',''))\n",
    "        cnt.append(cnt1)\n",
    "    \n",
    "    for i in range(0, 5):\n",
    "        print('식당명:', name[i], '별점:', star[i], '리뷰수:', cnt[i]) "
   ]
  },
  {
   "cell_type": "code",
   "execution_count": 5,
   "id": "56cc4143",
   "metadata": {},
   "outputs": [
    {
     "name": "stdout",
     "output_type": "stream",
     "text": [
      "지역 입력:제주도\n"
     ]
    },
    {
     "name": "stderr",
     "output_type": "stream",
     "text": [
      "C:\\Users\\q\\AppData\\Local\\Temp/ipykernel_5444/1493417636.py:9: DeprecationWarning: find_element_by_* commands are deprecated. Please use find_element() instead\n",
      "  searchbox = driver.find_element_by_css_selector(\"input#searchboxinput\")\n",
      "C:\\Users\\q\\AppData\\Local\\Temp/ipykernel_5444/1493417636.py:13: DeprecationWarning: find_element_by_* commands are deprecated. Please use find_element() instead\n",
      "  searchbutton = driver.find_element_by_css_selector(\"button#searchbox-searchbutton\")\n",
      "C:\\Users\\q\\AppData\\Local\\Temp/ipykernel_5444/1493417636.py:18: DeprecationWarning: find_element_by_* commands are deprecated. Please use find_element() instead\n",
      "  element = driver.find_element_by_css_selector(\"#pane > div > div.Yr7JMd-pane-content.cYB2Ge-oHo7ed > div > div > div.siAUzd-neVct.section-scrollbox.cYB2Ge-oHo7ed.cYB2Ge-ti6hGc.siAUzd-neVct-Q3DXx-BvBYQ > div.siAUzd-neVct.section-scrollbox.cYB2Ge-oHo7ed.cYB2Ge-ti6hGc.siAUzd-neVct-Q3DXx-BvBYQ > div.XS5mzc-on-hJDwNd-uMX1Ee.siAUzd-neVct > div > div.XwJl7b-map-XuHpsb-haAclf.xtu1r-K9a4Re-XuHpsb-haAclf > div.xtu1r-K9a4Re-ibnC6b-haAclf > div:nth-child(2) > div > button > span.uEubGf.gm2-subtitle-alt-2\")\n",
      "C:\\Users\\q\\AppData\\Local\\Temp/ipykernel_5444/1493417636.py:22: DeprecationWarning: find_element_by_* commands are deprecated. Please use find_element() instead\n",
      "  ratebutton = driver.find_element_by_css_selector(\"#action-menu > ul > li:nth-child(7)\")\n",
      "C:\\Users\\q\\AppData\\Local\\Temp/ipykernel_5444/1225344166.py:6: DeprecationWarning: find_elements_by_* commands are deprecated. Please use find_elements() instead\n",
      "  ress=driver.find_elements_by_class_name('qBF1Pd-haAclf')\n",
      "C:\\Users\\q\\AppData\\Local\\Temp/ipykernel_5444/1225344166.py:11: DeprecationWarning: find_elements_by_* commands are deprecated. Please use find_elements() instead\n",
      "  stars=driver.find_elements_by_class_name('MW4etd')\n",
      "C:\\Users\\q\\AppData\\Local\\Temp/ipykernel_5444/1225344166.py:16: DeprecationWarning: find_elements_by_* commands are deprecated. Please use find_elements() instead\n",
      "  reviews=driver.find_elements_by_class_name('UY7F9')\n"
     ]
    },
    {
     "name": "stdout",
     "output_type": "stream",
     "text": [
      "식당명: 고집돌우럭 제주공항점 별점: 4.4 리뷰수: 2316\n",
      "식당명: 곰막식당 별점: 4.3 리뷰수: 1847\n",
      "식당명: 고집돌우럭 제주공항점 별점: 4.4 리뷰수: 2316\n",
      "식당명: 서귀포모녀식당 별점: 5.0 리뷰수: 1\n",
      "식당명: 스시 호시카이 별점: 4.6 리뷰수: 310\n"
     ]
    }
   ],
   "source": [
    "# 여행할 지역입력\n",
    "keyword=input(\"지역 입력:\")\n",
    "\n",
    "#웹드라이버 열기\n",
    "driver=webdriver.Chrome()\n",
    "driver.get(\"https://www.google.com/maps/\")\n",
    "time.sleep(2)\n",
    "\n",
    "#검색창에 입력값 입력\n",
    "searchbox = driver.find_element_by_css_selector(\"input#searchboxinput\")\n",
    "searchbox.send_keys(f\"{keyword} 맛집\")\n",
    "\n",
    "#검색버튼 누르기\n",
    "searchbutton = driver.find_element_by_css_selector(\"button#searchbox-searchbutton\")\n",
    "searchbutton.click()\n",
    "time.sleep(5)\n",
    "\n",
    "#평점 선택\n",
    "element = driver.find_element_by_css_selector(\"#pane > div > div.Yr7JMd-pane-content.cYB2Ge-oHo7ed > div > div > div.siAUzd-neVct.section-scrollbox.cYB2Ge-oHo7ed.cYB2Ge-ti6hGc.siAUzd-neVct-Q3DXx-BvBYQ > div.siAUzd-neVct.section-scrollbox.cYB2Ge-oHo7ed.cYB2Ge-ti6hGc.siAUzd-neVct-Q3DXx-BvBYQ > div.XS5mzc-on-hJDwNd-uMX1Ee.siAUzd-neVct > div > div.XwJl7b-map-XuHpsb-haAclf.xtu1r-K9a4Re-XuHpsb-haAclf > div.xtu1r-K9a4Re-ibnC6b-haAclf > div:nth-child(2) > div > button > span.uEubGf.gm2-subtitle-alt-2\")\n",
    "driver.execute_script(\"arguments[0].click();\", element)\n",
    "\n",
    "# 평점 4.5이상 선택\n",
    "ratebutton = driver.find_element_by_css_selector(\"#action-menu > ul > li:nth-child(7)\")\n",
    "ratebutton.click()\n",
    "time.sleep(5)\n",
    "\n",
    "# 관광지 별점순 상위 5개 식당 결과\n",
    "restaurant()"
   ]
  },
  {
   "cell_type": "code",
   "execution_count": 6,
   "id": "2a134ff1",
   "metadata": {},
   "outputs": [],
   "source": [
    "import psycopg2"
   ]
  },
  {
   "cell_type": "code",
   "execution_count": 7,
   "id": "2bc692cc",
   "metadata": {},
   "outputs": [
    {
     "name": "stdout",
     "output_type": "stream",
     "text": [
      "=== 접속 성공 =====\n"
     ]
    }
   ],
   "source": [
    "conn_str = \"host=localhost dbname=postgres user=postgres password=admin port=5432\"\n",
    "\n",
    "try:\n",
    "    conn = psycopg2.connect(conn_str)\n",
    "    print(\"=== 접속 성공 =====\")\n",
    "    # except:\n",
    "    # print(\"접속오류 !!\")\n",
    "except psycopg2.DatabaseError as db_err:\n",
    "    print(\"접속오류 !!\")\n",
    "    print(db_err)"
   ]
  },
  {
   "cell_type": "code",
   "execution_count": 8,
   "id": "27d14ec0",
   "metadata": {},
   "outputs": [],
   "source": [
    "cur = conn.cursor()"
   ]
  },
  {
   "cell_type": "code",
   "execution_count": 15,
   "id": "ce061cde",
   "metadata": {},
   "outputs": [
    {
     "name": "stdout",
     "output_type": "stream",
     "text": [
      "[('제주도', '나인브릿지', '4.7', 818, ''), ('제주도', '신라호텔 제주', '4.6', 4462, '47.1'), ('제주도', '그랜드 하얏트 제주', '4.6', 1010, '36.1'), ('제주도', '롯데아트빌라스', '4.6', 530, '63.2'), ('제주도', '롯데호텔 제주', '4.5', 3807, '32.6'), ('전주', '더 메이 호텔', '4.6', 303, '24.9'), ('전주', '전주한옥마을 인재고택 학인당', '4.6', 175, ''), ('전주', '알콩달콩 다락방', '4.7', 82, ''), ('전주', '24게스트하우스 전주점', '4.6', 84, '2.48'), ('전주', '솔호텔', '4.4', 169, '3.95')]\n"
     ]
    }
   ],
   "source": [
    "# DB 저장-호텔\n",
    "try:\n",
    "    cur.execute(\"select * from hotel_review;\") # sql 문장\n",
    "    conn.commit()\n",
    "    rows = cur.fetchall()\n",
    "    print(rows)\n",
    "except:\n",
    "    conn.rollback()\n",
    "    print(\"--- DB error\")"
   ]
  },
  {
   "cell_type": "code",
   "execution_count": 16,
   "id": "e563b58e",
   "metadata": {},
   "outputs": [
    {
     "name": "stdout",
     "output_type": "stream",
     "text": [
      "----- insert ok\n",
      "----- insert ok\n",
      "----- insert ok\n",
      "----- insert ok\n",
      "----- insert ok\n"
     ]
    }
   ],
   "source": [
    "for i in range(5) :\n",
    "    \n",
    "    try:\n",
    "        cur.execute(\"INSERT INTO hotel_review (area, hotel_name, grade, review_count, price) VALUES (%s, %s, %s, %s, %s);\",\n",
    "        (keyword, name[i], star[i], cnt[i], price[i])) # sql 문장\n",
    "        conn.commit()\n",
    "        print(\"----- insert ok\")\n",
    "    except Exception as f:\n",
    "        print(f)\n",
    "        conn.rollback()\n",
    "        print(\"--- DB error\")"
   ]
  },
  {
   "cell_type": "code",
   "execution_count": 9,
   "id": "0cd7fae6",
   "metadata": {},
   "outputs": [
    {
     "name": "stdout",
     "output_type": "stream",
     "text": [
      "[('제주도', '고집돌우럭 제주공항점', '4.4', 2315), ('제주도', '곰막식당', '4.3', 1846), ('제주도', '고집돌우럭 제주공항점', '4.4', 2315), ('제주도', '서귀포모녀식당', '5.0', 1), ('제주도', '스시 호시카이', '4.6', 310), ('전주', '민속회관', '4.6', 20), ('전주', '부산맛집이장소없고 전주맛집', '5.0', 1), ('전주', '전주본가', '4.6', 5), ('전주', '고향시래기', '4.6', 23), ('전주', '남촌칼국수본점', '4.7', 23)]\n"
     ]
    }
   ],
   "source": [
    "# DB저장-맛집\n",
    "try:\n",
    "    cur.execute(\"select * from restaurant_review;\") # sql 문장\n",
    "    conn.commit()\n",
    "    rows = cur.fetchall()\n",
    "    print(rows)\n",
    "except:\n",
    "    conn.rollback()\n",
    "    print(\"--- DB error\")"
   ]
  },
  {
   "cell_type": "code",
   "execution_count": 10,
   "id": "8684ed66",
   "metadata": {
    "scrolled": true
   },
   "outputs": [
    {
     "name": "stdout",
     "output_type": "stream",
     "text": [
      "----- insert ok\n",
      "----- insert ok\n",
      "----- insert ok\n",
      "----- insert ok\n",
      "----- insert ok\n"
     ]
    }
   ],
   "source": [
    "for i in range(5) :\n",
    "    \n",
    "    try:\n",
    "        cur.execute(\"INSERT INTO restaurant_review (area, res_name, grade, review_count) VALUES (%s, %s, %s, %s);\",\n",
    "        (keyword, name[i], star[i], cnt[i])) # sql 문장\n",
    "        conn.commit()\n",
    "        print(\"----- insert ok\")\n",
    "    except Exception as f:\n",
    "        print(f)\n",
    "        conn.rollback()\n",
    "        print(\"--- DB error\")"
   ]
  },
  {
   "cell_type": "code",
   "execution_count": null,
   "id": "2586df63",
   "metadata": {},
   "outputs": [],
   "source": []
  },
  {
   "cell_type": "code",
   "execution_count": null,
   "id": "ba72c7e9",
   "metadata": {},
   "outputs": [],
   "source": []
  },
  {
   "cell_type": "code",
   "execution_count": null,
   "id": "895dacaa",
   "metadata": {},
   "outputs": [],
   "source": []
  },
  {
   "cell_type": "markdown",
   "id": "dc96df67",
   "metadata": {},
   "source": [
    "-------------------------------------------------"
   ]
  }
 ],
 "metadata": {
  "kernelspec": {
   "display_name": "Python 3 (ipykernel)",
   "language": "python",
   "name": "python3"
  },
  "language_info": {
   "codemirror_mode": {
    "name": "ipython",
    "version": 3
   },
   "file_extension": ".py",
   "mimetype": "text/x-python",
   "name": "python",
   "nbconvert_exporter": "python",
   "pygments_lexer": "ipython3",
   "version": "3.9.7"
  }
 },
 "nbformat": 4,
 "nbformat_minor": 5
}
